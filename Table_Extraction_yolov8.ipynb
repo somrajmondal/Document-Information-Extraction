{
  "cells": [
    {
      "cell_type": "code",
      "execution_count": null,
      "metadata": {
        "colab": {
          "base_uri": "https://localhost:8080/"
        },
        "id": "ZbVcwEy0fy16",
        "outputId": "dfcd0126-33a0-4d32-d75d-57638e91798c"
      },
      "outputs": [],
      "source": [
        "!pip install ultralyticsplus==0.0.23 ultralytics==8.0.21\n"
      ]
    },
    {
      "cell_type": "markdown",
      "metadata": {
        "id": "DpqtB-uurPie"
      },
      "source": [
        "**Loading Model**"
      ]
    },
    {
      "cell_type": "code",
      "execution_count": 19,
      "metadata": {
        "id": "u2nYJmiEgj58"
      },
      "outputs": [],
      "source": [
        "from ultralyticsplus import YOLO, render_result\n",
        "from matplotlib import pyplot as plt\n",
        "import cv2\n",
        "from PIL import Image\n",
        "import numpy as np\n",
        "\n",
        "model = YOLO('keremberke/yolov8m-table-extraction')\n",
        "\n",
        "model.overrides['conf'] = 0.25  # NMS confidence threshold\n",
        "model.overrides['iou'] = 0.45  # NMS IoU threshold\n",
        "model.overrides['agnostic_nms'] = False  # NMS class-agnostic\n",
        "model.overrides['max_det'] = 50  # Maximum number of detections per image\n",
        "\n",
        "\n"
      ]
    },
    {
      "cell_type": "markdown",
      "metadata": {
        "id": "2_uamIdZrVJH"
      },
      "source": [
        "**Inference**"
      ]
    },
    {
      "cell_type": "code",
      "execution_count": null,
      "metadata": {
        "colab": {
          "base_uri": "https://localhost:8080/",
          "height": 510
        },
        "id": "HFXAWYBArUm4",
        "outputId": "510b87ab-b5de-4d96-8497-0196c074aaad"
      },
      "outputs": [],
      "source": [
        "imgsource = '/content/1.png'\n",
        "\n",
        "# Predict\n",
        "results = model.predict(source=imgsource)\n",
        "print(results[0].boxes)\n",
        "\n",
        "print('----------------')\n",
        "\n",
        "render = render_result(model=model, image=imgsource, result=results[0])\n",
        "\n",
        "render_img = np.array(render)\n",
        "print(\"Converting PIL image to NumPy array\")\n",
        "\n",
        "\n",
        "plt.imshow(render_img)\n",
        "plt.axis('off')  \n",
        "plt.show()\n",
        "\n",
        "# Optionally, save the rendered image\n",
        "cv2.imwrite('render.jpg', cv2.cvtColor(render_img, cv2.COLOR_RGB2BGR))"
      ]
    },
    {
      "cell_type": "code",
      "execution_count": null,
      "metadata": {
        "id": "MEAWRzD8iGKn"
      },
      "outputs": [],
      "source": []
    }
  ],
  "metadata": {
    "colab": {
      "provenance": []
    },
    "kernelspec": {
      "display_name": "Python 3",
      "name": "python3"
    },
    "language_info": {
      "name": "python"
    }
  },
  "nbformat": 4,
  "nbformat_minor": 0
}
